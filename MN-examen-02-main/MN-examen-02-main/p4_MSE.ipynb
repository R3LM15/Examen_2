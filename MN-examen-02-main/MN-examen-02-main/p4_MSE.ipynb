{
 "cells": [
  {
   "cell_type": "code",
   "execution_count": 1,
   "metadata": {},
   "outputs": [],
   "source": [
    "# Derivadas parciales para regresión lineal\n",
    "# ####################################################################\n",
    "def der_parcial_1(xs: list, ys: list) -> tuple[float, float, float]:\n",
    "    \"\"\"Retorna los coeficientes de la ecuación de la derivada parcial con respecto al parámetro 1 al reemplazar los valores ``xs`` y ``ys``. La ecuación es de la forma:\n",
    "    c_1 * a_1 + c_0 * a_0 = c_ind\n",
    "\n",
    "\n",
    "    ## Parameters\n",
    "\n",
    "    ``xs``: lista de valores de x.\n",
    "\n",
    "    ``ys``: lista de valores de y.\n",
    "\n",
    "    ## Return\n",
    "\n",
    "    ``c_1``: coeficiente del parámetro 1.\n",
    "\n",
    "    ``c_0``: coeficiente del parámetro 0.\n",
    "\n",
    "    ``c_ind``: coeficiente del término independiente.\n",
    "\n",
    "    \"\"\"\n",
    "\n",
    "    # coeficiente del término independiente\n",
    "    c_ind = sum(ys)\n",
    "\n",
    "    # coeficiente del parámetro 1\n",
    "    c_1 = sum(xs)\n",
    "\n",
    "    # coeficiente del parámetro 0\n",
    "    c_0 = len(xs)\n",
    "\n",
    "    return (c_1, c_0, c_ind)\n",
    "\n",
    "\n",
    "def der_parcial_0(xs: list, ys: list) -> tuple[float, float, float]:\n",
    "    \"\"\"Retorna los coeficientes de la ecuación de la derivada parcial con respecto al parámetro 0 al reemplazar los valores ``xs`` y ``ys``. La ecuación es de la forma:\n",
    "    c_1 * a_1 + c_0 * a_0 = c_ind\n",
    "\n",
    "\n",
    "    ## Parameters\n",
    "\n",
    "    ``xs``: lista de valores de x.\n",
    "\n",
    "    ``ys``: lista de valores de y.\n",
    "\n",
    "    ## Return\n",
    "\n",
    "    ``c_1``: coeficiente del parámetro 1.\n",
    "\n",
    "    ``c_0``: coeficiente del parámetro 0.\n",
    "\n",
    "    ``c_ind``: coeficiente del término independiente.\n",
    "\n",
    "    \"\"\"\n",
    "    c_1 = 0\n",
    "    c_0 = 0\n",
    "    c_ind = 0\n",
    "    for xi, yi in zip(xs, ys):\n",
    "        # coeficiente del término independiente\n",
    "        c_ind += xi * yi\n",
    "\n",
    "        # coeficiente del parámetro 1\n",
    "        c_1 += xi * xi\n",
    "\n",
    "        # coeficiente del parámetro 0\n",
    "        c_0 += xi\n",
    "\n",
    "    return (c_1, c_0, c_ind)"
   ]
  },
  {
   "cell_type": "code",
   "execution_count": 2,
   "metadata": {},
   "outputs": [
    {
     "name": "stdout",
     "output_type": "stream",
     "text": [
      "[08-07 12:29:21][INFO] 2025-08-07 12:29:21.373819\n",
      "[08-07 12:29:21][INFO] Usuario| 2025-08-07 12:29:21.474682\n",
      "[08-07 12:29:21][INFO] 2025-08-07 12:29:21.478882\n",
      "[08-07 12:29:21][INFO] Usuario| 2025-08-07 12:29:21.483136\n"
     ]
    }
   ],
   "source": [
    "from src import ajustar_min_cuadrados\n",
    "\n",
    "# UTILICE:\n",
    "# ajustar_min_cuadrados()"
   ]
  },
  {
   "cell_type": "code",
   "execution_count": null,
   "metadata": {},
   "outputs": [],
   "source": []
  }
 ],
 "metadata": {
  "kernelspec": {
   "display_name": "Python 3",
   "language": "python",
   "name": "python3"
  },
  "language_info": {
   "codemirror_mode": {
    "name": "ipython",
    "version": 3
   },
   "file_extension": ".py",
   "mimetype": "text/x-python",
   "name": "python",
   "nbconvert_exporter": "python",
   "pygments_lexer": "ipython3",
   "version": "3.11.9"
  }
 },
 "nbformat": 4,
 "nbformat_minor": 2
}
