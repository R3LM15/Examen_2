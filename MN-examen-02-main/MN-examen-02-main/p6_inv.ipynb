{
 "cells": [
  {
   "cell_type": "code",
   "execution_count": 1,
   "metadata": {},
   "outputs": [],
   "source": [
    "%load_ext autoreload\n",
    "# %autoreload 2"
   ]
  },
  {
   "cell_type": "code",
   "execution_count": 2,
   "metadata": {},
   "outputs": [
    {
     "name": "stdout",
     "output_type": "stream",
     "text": [
      "[08-07 12:57:53][INFO] Usuario| 2025-08-07 12:57:53.145808\n"
     ]
    }
   ],
   "source": [
    "import logging\n",
    "from sys import stdout\n",
    "from datetime import datetime\n",
    "import numpy as np\n",
    "import os\n",
    "\n",
    "logging.basicConfig(\n",
    "    level=logging.INFO,\n",
    "    format=\"[%(asctime)s][%(levelname)s] %(message)s\",\n",
    "    stream=stdout,\n",
    "    datefmt=\"%m-%d %H:%M:%S\",\n",
    ")\n",
    "\n",
    "logging.info(f\"{os.getlogin()}| {datetime.now()}\")"
   ]
  },
  {
   "cell_type": "code",
   "execution_count": 69,
   "metadata": {},
   "outputs": [],
   "source": [
    "# ####################################################################\n",
    "def gauss_jordan(Ab: np.ndarray) -> np.ndarray:\n",
    "    \"\"\"Resuelve un sistema de ecuaciones lineales mediante el método de Gauss-Jordan.\n",
    "\n",
    "    ## Parameters\n",
    "\n",
    "    ``Ab``: matriz aumentada del sistema de ecuaciones lineales. Debe ser de tamaño n-by-(n+1), donde n es el número de incógnitas.\n",
    "\n",
    "    ## Return\n",
    "\n",
    "    ``solucion``: vector con la solución del sistema de ecuaciones lineales.\n",
    "\n",
    "    \"\"\"\n",
    "    if not isinstance(Ab, np.ndarray):\n",
    "        logging.debug(\"Convirtiendo A a numpy array.\")\n",
    "        Ab = np.array(Ab, dtype=float)\n",
    "    assert Ab.shape[0] == Ab.shape[1] - 1, \"La matriz A debe ser de tamaño n-by-(n+1).\"\n",
    "    n = Ab.shape[0]\n",
    "\n",
    "    for i in range(0, n):  # loop por columna\n",
    "\n",
    "        # --- encontrar pivote\n",
    "        p = None  # default, first element\n",
    "        for pi in range(i, n):\n",
    "            if Ab[pi, i] == 0:\n",
    "                # must be nonzero\n",
    "                continue\n",
    "\n",
    "            if p is None:\n",
    "                # first nonzero element\n",
    "                p = pi\n",
    "                continue\n",
    "\n",
    "            if abs(Ab[pi, i]) < abs(Ab[p, i]):\n",
    "                p = pi\n",
    "\n",
    "        if p is None:\n",
    "            # no pivot found.\n",
    "            raise ValueError(\"No existe solución única.\")\n",
    "\n",
    "        if p != i:\n",
    "            # swap rows\n",
    "            logging.debug(f\"Intercambiando filas {i} y {p}\")\n",
    "            _aux = Ab[i, :].copy()\n",
    "            Ab[i, :] = Ab[p, :].copy()\n",
    "            Ab[p, :] = _aux\n",
    "\n",
    "        # --- Eliminación: loop por fila\n",
    "        for j in range(n):\n",
    "            if i == j:\n",
    "                continue\n",
    "            m = Ab[j, i] / Ab[i, i]\n",
    "            Ab[j, i:] = Ab[j, i:] - m * Ab[i, i:]\n",
    "\n",
    "        logging.info(f\"\\n{Ab}\")\n",
    "\n",
    "    if Ab[n - 1, n - 1] == 0:\n",
    "        raise ValueError(\"No existe solución única.\")\n",
    "\n",
    "    # --- Sustitución hacia atrás\n",
    "    solucion = np.zeros(n)\n",
    "\n",
    "    for i in range(n - 1, -1, -1):\n",
    "        solucion[i] = Ab[i, -1] / Ab[i, i]\n",
    "\n",
    "    return solucion"
   ]
  },
  {
   "cell_type": "code",
   "execution_count": 70,
   "metadata": {},
   "outputs": [
    {
     "name": "stdout",
     "output_type": "stream",
     "text": [
      "[02-06 08:25:46][INFO] \n",
      "[[ 1.  2.  3.  4.  1.]\n",
      " [ 0.  1.  0. -1. -4.]\n",
      " [ 0.  0. -1. -3.  0.]\n",
      " [ 0. -1. -3. -6.  0.]]\n",
      "[02-06 08:25:46][INFO] \n",
      "[[ 1.  0.  3.  6.  9.]\n",
      " [ 0.  1.  0. -1. -4.]\n",
      " [ 0.  0. -1. -3.  0.]\n",
      " [ 0.  0. -3. -7. -4.]]\n",
      "[02-06 08:25:46][INFO] \n",
      "[[ 1.  0.  0. -3.  9.]\n",
      " [ 0.  1.  0. -1. -4.]\n",
      " [ 0.  0. -1. -3.  0.]\n",
      " [ 0.  0.  0.  2. -4.]]\n",
      "[02-06 08:25:46][INFO] \n",
      "[[ 1.  0.  0.  0.  3.]\n",
      " [ 0.  1.  0.  0. -6.]\n",
      " [ 0.  0. -1.  0. -6.]\n",
      " [ 0.  0.  0.  2. -4.]]\n"
     ]
    },
    {
     "data": {
      "text/plain": [
       "array([ 3., -6.,  6., -2.])"
      ]
     },
     "execution_count": 70,
     "metadata": {},
     "output_type": "execute_result"
    }
   ],
   "source": [
    "%autoreload 2\n",
    "from src import matriz_aumentada\n",
    "\n",
    "A = [\n",
    "    [1, 2, 3, 4],\n",
    "    [2, 5, 6, 7],\n",
    "    [3, 6, 8, 9],\n",
    "    [4, 7, 9, 10],\n",
    "]\n",
    "b = [1, -2, 3, 4]\n",
    "\n",
    "Ab = matriz_aumentada(A, b)\n",
    "gauss_jordan(Ab)"
   ]
  },
  {
   "cell_type": "markdown",
   "metadata": {},
   "source": [
    "# Resolver"
   ]
  },
  {
   "cell_type": "code",
   "execution_count": 5,
   "metadata": {},
   "outputs": [],
   "source": [
    "def inv_matrix(A: np.ndarray) -> np.ndarray:\n",
    "    \"\"\"Inversión de una matriz cuadrada mediante método de Gauss-Jordan.\n",
    "    ## Parameters\n",
    "    ``A``: matriz cuadrada de tamaño n x n.\n",
    "\n",
    "    ## Return\n",
    "    ``A_inv``: matriz inversa de A.\n",
    "    \"\"\"\n",
    "    if not isinstance(A, np.ndarray):\n",
    "        A = np.array(A, dtype=float)\n",
    "    n = A.shape[0]\n",
    "    assert A.shape[0] == A.shape[1], \"La matriz debe ser cuadrada.\"\n",
    "\n",
    "    # Construir la matriz aumentada [A | I]\n",
    "    Ab = np.hstack([A, np.eye(n)])\n",
    "\n",
    "    # Aplicar Gauss-Jordan para obtener la inversa\n",
    "    for i in range(n):\n",
    "        # Buscar el pivote\n",
    "        p = None\n",
    "        for pi in range(i, n):\n",
    "            if Ab[pi, i] != 0:\n",
    "                if p is None or abs(Ab[pi, i]) < abs(Ab[p, i]):\n",
    "                    p = pi\n",
    "        if p is None:\n",
    "            raise ValueError(\"No existe solución única.\")\n",
    "\n",
    "        if p != i:\n",
    "            Ab[[i, p], :] = Ab[[p, i], :]\n",
    "\n",
    "        # Normalizar la fila pivote\n",
    "        Ab[i, :] = Ab[i, :] / Ab[i, i]\n",
    "\n",
    "        # Eliminar las otras filas\n",
    "        for j in range(n):\n",
    "            if i == j:\n",
    "                continue\n",
    "            m = Ab[j, i]\n",
    "            Ab[j, :] = Ab[j, :] - m * Ab[i, :]\n",
    "\n",
    "    # La inversa está en las columnas n:2n\n",
    "    A_inv = Ab[:, n:]\n",
    "    return A_inv"
   ]
  },
  {
   "cell_type": "markdown",
   "metadata": {},
   "source": [
    "## Ejemplos\n",
    "* Ejemplo 1"
   ]
  },
  {
   "cell_type": "code",
   "execution_count": 15,
   "metadata": {},
   "outputs": [
    {
     "name": "stdout",
     "output_type": "stream",
     "text": [
      "[[ 0.5 -0.5 -1.5  1.5]\n",
      " [-0.5  1.5 -1.5  0.5]\n",
      " [-1.5 -1.5  3.5 -1.5]\n",
      " [ 1.5  0.5 -1.5  0.5]]\n",
      "A * A_inv =\n",
      " [[1. 0. 0. 0.]\n",
      " [0. 1. 0. 0.]\n",
      " [0. 0. 1. 0.]\n",
      " [0. 0. 0. 1.]]\n"
     ]
    }
   ],
   "source": [
    "# La matriz A =\n",
    "A = [\n",
    "    [1, 2, 3, 4],\n",
    "    [2, 5, 6, 7],\n",
    "    [3, 6, 8, 9],\n",
    "    [4, 7, 9, 10],\n",
    "]\n",
    "# tiene como inversa\n",
    "# A_inv =[[ 0.5, -0.5, -1.5,  1.5],\n",
    "#        [-0.5,  1.5, -1.5,  0.5],\n",
    "#        [-1.5, -1.5,  3.5, -1.5],\n",
    "#        [ 1.5,  0.5, -1.5,  0.5]]\n",
    "print(inv_matrix(A))\n",
    "\n",
    "# Multiplicación de A por su inversa\n",
    "A_inv = inv_matrix(A)\n",
    "I = np.dot(A, A_inv)\n",
    "print(\"A * A_inv =\\n\", I)\n",
    "\n"
   ]
  },
  {
   "cell_type": "markdown",
   "metadata": {},
   "source": [
    "* Ejemplo 2"
   ]
  },
  {
   "cell_type": "code",
   "execution_count": 16,
   "metadata": {},
   "outputs": [
    {
     "name": "stdout",
     "output_type": "stream",
     "text": [
      "[[-34.  31.  52. -20.]\n",
      " [ 19. -17. -29.  11.]\n",
      " [ 12. -11. -18.   7.]\n",
      " [  1.  -1.  -2.   1.]]\n",
      "A * A_inv =\n",
      " [[1. 0. 0. 0.]\n",
      " [0. 1. 0. 0.]\n",
      " [0. 0. 1. 0.]\n",
      " [0. 0. 0. 1.]]\n"
     ]
    }
   ],
   "source": [
    "# La matriz A =\n",
    "A = [\n",
    "    [4, 4, 5, 1],\n",
    "    [3, 4, 2, 2],\n",
    "    [2, 1, 4, 1],\n",
    "    [3, 2, 5, 4],\n",
    "]\n",
    "# tiene como inversa\n",
    "# A_inv =[[-34.,  31.,  52., -20.],\n",
    "#         [ 19., -17., -29.,  11.],\n",
    "#         [ 12., -11., -18.,   7.],\n",
    "#         [  1.,  -1.,  -2.,   1.]]\n",
    "print(inv_matrix(A))\n",
    "\n",
    "# Multiplicación de A por su inversa\n",
    "A_inv = inv_matrix(A)\n",
    "I = np.dot(A, A_inv)\n",
    "print(\"A * A_inv =\\n\", I)"
   ]
  },
  {
   "cell_type": "markdown",
   "metadata": {},
   "source": [
    "## Ejercicios"
   ]
  },
  {
   "cell_type": "markdown",
   "metadata": {},
   "source": [
    "* Ejercicio 1"
   ]
  },
  {
   "cell_type": "code",
   "execution_count": 18,
   "metadata": {},
   "outputs": [
    {
     "name": "stdout",
     "output_type": "stream",
     "text": [
      "[[-1. -3.]\n",
      " [-1. -2.]]\n",
      "A * A_inv =\n",
      " [[1. 0.]\n",
      " [0. 1.]]\n"
     ]
    }
   ],
   "source": [
    "A = [[2, -3], [-1, 1]]\n",
    "\n",
    "print(inv_matrix(A))\n",
    "\n",
    "# Multiplicación de A por su inversa\n",
    "A_inv = inv_matrix(A)\n",
    "I = np.dot(A, A_inv)\n",
    "print(\"A * A_inv =\\n\", I)\n"
   ]
  },
  {
   "cell_type": "markdown",
   "metadata": {},
   "source": [
    "* Ejercicio 2"
   ]
  },
  {
   "cell_type": "code",
   "execution_count": 25,
   "metadata": {},
   "outputs": [
    {
     "name": "stdout",
     "output_type": "stream",
     "text": [
      "[[-36.  45.  60. -80.]\n",
      " [  3.  -4.  -5.   7.]\n",
      " [  9. -11. -15.  20.]\n",
      " [ 29. -36. -48.  64.]]\n"
     ]
    }
   ],
   "source": [
    "A = [\n",
    "    [4, 0, 0, 5],\n",
    "    [1, 0, 4, 0],\n",
    "    [3, 4, 1, 3],\n",
    "    [1, 3, 3, 0],\n",
    "]\n",
    "\n",
    "print(inv_matrix(A))\n"
   ]
  },
  {
   "cell_type": "markdown",
   "metadata": {},
   "source": [
    "* Ejercicio 3"
   ]
  },
  {
   "cell_type": "code",
   "execution_count": 22,
   "metadata": {},
   "outputs": [
    {
     "data": {
      "text/plain": [
       "array([[ 2., -1.,  0., -1.,  0.,  2.,  2., -1.],\n",
       "       [ 0.,  1.,  1., -1.,  0.,  0.,  0.,  0.],\n",
       "       [ 6., -1.,  0., -3.,  1.,  1.,  4., -3.],\n",
       "       [ 6.,  1., -1., -3.,  1., -3.,  3., -3.],\n",
       "       [ 2., -1.,  1., -1.,  0.,  3.,  2., -1.],\n",
       "       [-2.,  2.,  0.,  0.,  0., -4., -2.,  1.],\n",
       "       [-1.,  0.,  0.,  1.,  0.,  0., -1.,  1.],\n",
       "       [-2.,  0.,  0.,  1.,  0.,  0., -1.,  1.]])"
      ]
     },
     "execution_count": 22,
     "metadata": {},
     "output_type": "execute_result"
    }
   ],
   "source": [
    "A = [\n",
    "    [0, 0, 0, 0, 0, 0, 1, -1],\n",
    "    [0, 1, -1, 1, 0, -1, 0, 1],\n",
    "    [-1, -1, 0, 0, 2, 1, 0, 0],\n",
    "    [-1, -1, -1, 1, 2, 0, 0, 1],\n",
    "    [-1, 1, 1, 0, -1, -1, 0, 2],\n",
    "    [0, 1, 0, 0, -1, -1, 0, 0],\n",
    "    [1, -1, -1, 1, 2, 1, 0, 2],\n",
    "    [2, 0, 0, 0, 0, 1, 2, 0],\n",
    "]\n",
    "inv_matrix(A)\n",
    "\n"
   ]
  },
  {
   "cell_type": "markdown",
   "metadata": {},
   "source": [
    "* Ejercicio 4"
   ]
  },
  {
   "cell_type": "code",
   "execution_count": 24,
   "metadata": {},
   "outputs": [
    {
     "data": {
      "text/plain": [
       "array([[ 14.,  -8.,   9.,  -4.,   0.,  -4.,   9.,   7.,  -8.,   3.],\n",
       "       [ -2.,   2.,  -1.,   2.,   1.,   1.,  -1.,  -1.,   1.,  -2.],\n",
       "       [-27.,  14., -18.,   5.,  -2.,   7., -17., -13.,  16.,  -2.],\n",
       "       [ 12.,  -6.,   8.,  -2.,   1.,  -3.,   7.,   6.,  -7.,   0.],\n",
       "       [  6.,  -4.,   4.,  -2.,   0.,  -2.,   4.,   3.,  -3.,   2.],\n",
       "       [ 18.,  -9.,  12.,  -4.,   1.,  -5.,  11.,   9., -11.,   1.],\n",
       "       [  8.,  -4.,   5.,  -1.,   1.,  -2.,   5.,   4.,  -5.,   0.],\n",
       "       [ -5.,   2.,  -3.,   0.,  -1.,   1.,  -3.,  -2.,   3.,   1.],\n",
       "       [-11.,   5.,  -7.,   1.,  -2.,   2.,  -7.,  -5.,   7.,   1.],\n",
       "       [  1.,  -1.,   1.,  -1.,  -1.,  -1.,   1.,   1.,  -1.,   1.]])"
      ]
     },
     "execution_count": 24,
     "metadata": {},
     "output_type": "execute_result"
    }
   ],
   "source": [
    "A = [\n",
    "    [1, 0, 0, 0, -1, 0, 0, -1, 1, -1],\n",
    "    [1, 1, 0, -1, -1, 1, 0, 0, 1, -1],\n",
    "    [-1, 0, -1, 0, 0, 0, -1, 1, 0, 0],\n",
    "    [0, 0, -1, 0, -1, -1, 1, 0, 1, 0],\n",
    "    [-1, 0, 0, -1, 1, 1, 1, 1, 0, -1],\n",
    "    [1, 0, 0, 1, -1, -1, -1, 1, -1, 0],\n",
    "    [1, 1, 1, 0, 1, 0, -1, -1, -1, 1],\n",
    "    [1, 1, 1, 1, 0, 0, 1, 1, 0, 0],\n",
    "    [1, 1, 1, 1, 1, 0, -1, -1, 0, 0],\n",
    "    [0, 0, -1, -1, -1, 0, 1, 1, 1, -1],\n",
    "]\n",
    "inv_matrix(A)\n",
    "\n"
   ]
  },
  {
   "cell_type": "code",
   "execution_count": null,
   "metadata": {},
   "outputs": [],
   "source": []
  }
 ],
 "metadata": {
  "kernelspec": {
   "display_name": "Python 3",
   "language": "python",
   "name": "python3"
  },
  "language_info": {
   "codemirror_mode": {
    "name": "ipython",
    "version": 3
   },
   "file_extension": ".py",
   "mimetype": "text/x-python",
   "name": "python",
   "nbconvert_exporter": "python",
   "pygments_lexer": "ipython3",
   "version": "3.11.9"
  }
 },
 "nbformat": 4,
 "nbformat_minor": 2
}
